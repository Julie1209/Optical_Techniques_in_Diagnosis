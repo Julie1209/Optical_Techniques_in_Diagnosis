{
 "cells": [
  {
   "cell_type": "code",
   "execution_count": 1,
   "metadata": {},
   "outputs": [],
   "source": [
    "from time import time\n",
    "\n",
    "import numpy as np\n",
    "import matplotlib.pyplot as plt"
   ]
  },
  {
   "cell_type": "code",
   "execution_count": 2,
   "metadata": {},
   "outputs": [],
   "source": [
    "# 1/cm\n",
    "mua = 10\n",
    "\n",
    "# cm\n",
    "delta_z = 0.025\n",
    "\n",
    "# total photon number\n",
    "photon_num = 10000\n",
    "\n",
    "# cm\n",
    "medium_thickness = 1\n",
    "\n",
    "# running times\n",
    "run_times = 5"
   ]
  },
  {
   "cell_type": "code",
   "execution_count": 3,
   "metadata": {},
   "outputs": [
    {
     "name": "stdout",
     "output_type": "stream",
     "text": [
      "fixed-step run_time: 0.17757105827331543 s\n"
     ]
    }
   ],
   "source": [
    "# fixed-step\n",
    "\n",
    "fixed_t0 = time()\n",
    "    \n",
    "# initialize the absorbed photon set (record absorbed position)\n",
    "absorbed_interval_recorded = np.array([], dtype=int)\n",
    "\n",
    "# start to run simulation one photon by one photon\n",
    "for photon_index in range(photon_num):\n",
    "\n",
    "    # interval which photon starts to travel\n",
    "    absorbed_interval = 0\n",
    "\n",
    "    while True:\n",
    "        absorbed_prob = np.random.uniform()\n",
    "        if absorbed_prob <= mua*delta_z:\n",
    "            absorbed_interval_recorded = np.append(absorbed_interval_recorded, absorbed_interval)\n",
    "            break\n",
    "        else:\n",
    "            absorbed_interval += 1\n",
    "#             if absorbed_interval >= boundary_interval:\n",
    "#                 absorbed_interval_recorded = np.append(absorbed_interval_recorded, absorbed_interval)\n",
    "#                 #print(\"photon No.{} exceeds boundary !!\".format(photon_index))\n",
    "#                 break\n",
    "\n",
    "fixed_t1 = time()\n",
    "\n",
    "print(\"fixed-step run_time: {} s\".format(fixed_t1 - fixed_t0))"
   ]
  },
  {
   "cell_type": "code",
   "execution_count": 4,
   "metadata": {},
   "outputs": [
    {
     "name": "stdout",
     "output_type": "stream",
     "text": [
      "variable-step run_time: 0.009015798568725586 s\n"
     ]
    }
   ],
   "source": [
    "variable_t0 = time()\n",
    "\n",
    "# initialize the all photon (one random number represents one photon)\n",
    "photons_id = np.random.uniform(size=photon_num)\n",
    "\n",
    "# sampling\n",
    "absorbed_position_recorded = -(np.log(1-photons_id)/mua)\n",
    "\n",
    "variable_t1 = time()\n",
    "\n",
    "print(\"variable-step run_time: {} s\".format(variable_t1 - variable_t0))"
   ]
  }
 ],
 "metadata": {
  "kernelspec": {
   "display_name": "Python 3",
   "language": "python",
   "name": "python3"
  },
  "language_info": {
   "codemirror_mode": {
    "name": "ipython",
    "version": 3
   },
   "file_extension": ".py",
   "mimetype": "text/x-python",
   "name": "python",
   "nbconvert_exporter": "python",
   "pygments_lexer": "ipython3",
   "version": "3.7.1"
  }
 },
 "nbformat": 4,
 "nbformat_minor": 2
}
